{
 "cells": [
  {
   "cell_type": "code",
   "execution_count": 1,
   "id": "0cfe251a",
   "metadata": {},
   "outputs": [],
   "source": [
    "# CASE 1\n",
    "# Write a Python program that creates a new database in a file called original.db \n",
    "# containing a single table called Pressure, with a single field called reading, \n",
    "# and inserts 100,000 random numbers between 10.0 and 25.0.\n",
    "\n",
    "# import libriaries\n",
    "import sqlite3\n",
    "import random\n",
    "import pandas as pd"
   ]
  },
  {
   "cell_type": "code",
   "execution_count": 2,
   "id": "76c3bde4",
   "metadata": {},
   "outputs": [],
   "source": [
    "# instantiate connection and cursor object\n",
    "connection = sqlite3.connect(\"original.db\")\n",
    "cursor = connection.cursor()"
   ]
  },
  {
   "cell_type": "code",
   "execution_count": 3,
   "id": "4170fc6b",
   "metadata": {},
   "outputs": [
    {
     "data": {
      "text/plain": [
       "<sqlite3.Cursor at 0x1c394e49260>"
      ]
     },
     "execution_count": 3,
     "metadata": {},
     "output_type": "execute_result"
    }
   ],
   "source": [
    "# add and empty table\n",
    "cursor.execute (\"CREATE TABLE Pressure_Final (reading INTEGER)\")"
   ]
  },
  {
   "cell_type": "code",
   "execution_count": 4,
   "id": "a25ffce2",
   "metadata": {},
   "outputs": [
    {
     "data": {
      "text/plain": [
       "list"
      ]
     },
     "execution_count": 4,
     "metadata": {},
     "output_type": "execute_result"
    }
   ],
   "source": [
    "# create a list of 300000 random numbers from 10 to 25\n",
    "rand_list=[]\n",
    "n=100000\n",
    "for i in range(n):\n",
    "    rand_list.append(random.randint(10,25)) \n",
    "type(rand_list)\n"
   ]
  },
  {
   "cell_type": "code",
   "execution_count": 5,
   "id": "6e2f2212",
   "metadata": {},
   "outputs": [],
   "source": [
    "# create a query\n",
    "query = \"INSERT INTO Pressure_Final (reading) VALUES (?);\"\n",
    "\n",
    "# iterate over random list to add every integer into a DB\n",
    "for number in rand_list:\n",
    "    cursor.execute(query, [number])\n",
    "connection.commit()"
   ]
  },
  {
   "cell_type": "code",
   "execution_count": 6,
   "id": "0bb3aca1",
   "metadata": {},
   "outputs": [
    {
     "name": "stdout",
     "output_type": "stream",
     "text": [
      "       reading\n",
      "0           22\n",
      "1           20\n",
      "2           21\n",
      "3           14\n",
      "4           12\n",
      "...        ...\n",
      "99995       13\n",
      "99996       12\n",
      "99997       14\n",
      "99998       22\n",
      "99999       19\n",
      "\n",
      "[100000 rows x 1 columns]\n"
     ]
    }
   ],
   "source": [
    "# check yourself by creating and printing out the database from our Table\n",
    "df = pd.read_sql_query(\"SELECT * FROM Pressure_Final;\",connection)\n",
    "print (df)"
   ]
  },
  {
   "cell_type": "code",
   "execution_count": 7,
   "id": "8519ccb2",
   "metadata": {},
   "outputs": [],
   "source": [
    "# close connection\n",
    "connection.close()"
   ]
  },
  {
   "cell_type": "code",
   "execution_count": 13,
   "id": "fb791d48",
   "metadata": {},
   "outputs": [],
   "source": [
    "# CASE 2.\n",
    "# Write a Python program that creates a new database called backup.db with the same structure as original.db \n",
    "# and copies all the values greater than 20.0 from original.db to backup.db.\n",
    "\n",
    "# import libriaries\n",
    "import sqlite3\n",
    "import random\n",
    "import pandas as pd"
   ]
  },
  {
   "cell_type": "code",
   "execution_count": 14,
   "id": "41a80101",
   "metadata": {},
   "outputs": [],
   "source": [
    "# instantiate original connection and cursor object\n",
    "connection_original = sqlite3.connect(\"original.db\")\n",
    "cursor_original = connection_original.cursor()"
   ]
  },
  {
   "cell_type": "code",
   "execution_count": 15,
   "id": "1f1848fb",
   "metadata": {},
   "outputs": [],
   "source": [
    "# make query to select the values greater than 20\n",
    "cursor_original.execute(\"SELECT * FROM Pressure_Final WHERE reading > 20;\")\n",
    "# fetch the values to a list\n",
    "results = cursor_original.fetchall()"
   ]
  },
  {
   "cell_type": "code",
   "execution_count": 16,
   "id": "8f35ffad",
   "metadata": {},
   "outputs": [],
   "source": [
    "# close cursor and connection\n",
    "cursor_original.close()\n",
    "connection_original.close()"
   ]
  },
  {
   "cell_type": "code",
   "execution_count": 18,
   "id": "a2045994",
   "metadata": {},
   "outputs": [],
   "source": [
    "#create backup connection and cursor\n",
    "connection_backup = sqlite3.connect(\"backup.db\")\n",
    "cursor_backup = connection_backup.cursor()"
   ]
  },
  {
   "cell_type": "code",
   "execution_count": 19,
   "id": "1b6702eb",
   "metadata": {},
   "outputs": [],
   "source": [
    "# create an empty table\n",
    "cursor_backup.execute (\"CREATE TABLE Pressure_backup (reading INTEGER)\")\n",
    "\n",
    "# and a query\n",
    "query = \"INSERT INTO Pressure_backup (reading) VALUES (?);\""
   ]
  },
  {
   "cell_type": "code",
   "execution_count": 20,
   "id": "e6f2c2c0",
   "metadata": {},
   "outputs": [],
   "source": [
    "# iterate through list 'results' to add values to backup DB\n",
    "for i in results:\n",
    "    cursor_backup.execute(query, i)"
   ]
  },
  {
   "cell_type": "code",
   "execution_count": 21,
   "id": "0ba84cff",
   "metadata": {},
   "outputs": [],
   "source": [
    "# commit changes to DB and close connections\n",
    "cursor_backup.close()\n",
    "connection_backup.commit()\n",
    "connection_backup.close()"
   ]
  },
  {
   "cell_type": "code",
   "execution_count": 22,
   "id": "8b72d7b5",
   "metadata": {},
   "outputs": [],
   "source": [
    "# CASE 3\n",
    "# Write a small Python program that reads this file in and INSERTs these records into the survey database. \n",
    "# Note: you will need to add an entry for Olmstead to the Person table. \n",
    "\n",
    "# import libriary\n",
    "import sqlite3"
   ]
  },
  {
   "cell_type": "code",
   "execution_count": 23,
   "id": "c51ddc90",
   "metadata": {},
   "outputs": [],
   "source": [
    "# create connection and cursor\n",
    "connection = sqlite3.connect(\"survey.db\")\n",
    "cursor = connection.cursor()"
   ]
  },
  {
   "cell_type": "code",
   "execution_count": 24,
   "id": "df25ff80",
   "metadata": {},
   "outputs": [
    {
     "data": {
      "text/plain": [
       "<sqlite3.Cursor at 0x1c39558c260>"
      ]
     },
     "execution_count": 24,
     "metadata": {},
     "output_type": "execute_result"
    }
   ],
   "source": [
    "# create an empty table\n",
    "cursor.execute (\"CREATE TABLE Survey (Taken INTEGER PRIMARY KEY, Temp FLOAT NOT NULL)\")"
   ]
  },
  {
   "cell_type": "code",
   "execution_count": 25,
   "id": "dec3a910",
   "metadata": {},
   "outputs": [
    {
     "data": {
      "text/plain": [
       "<sqlite3.Cursor at 0x1c39558c260>"
      ]
     },
     "execution_count": 25,
     "metadata": {},
     "output_type": "execute_result"
    }
   ],
   "source": [
    "# insert two readings into DB\n",
    "cursor.execute (\"INSERT INTO Survey VALUES (619,-21.5)\")\n",
    "cursor.execute (\"INSERT INTO Survey VALUES (622,-15.5)\")"
   ]
  },
  {
   "cell_type": "code",
   "execution_count": 26,
   "id": "c3f892b4",
   "metadata": {},
   "outputs": [],
   "source": [
    "# commit changes to DB and close connections\n",
    "cursor.close()\n",
    "connection.commit()\n",
    "connection.close()"
   ]
  }
 ],
 "metadata": {
  "kernelspec": {
   "display_name": "Python 3 (ipykernel)",
   "language": "python",
   "name": "python3"
  },
  "language_info": {
   "codemirror_mode": {
    "name": "ipython",
    "version": 3
   },
   "file_extension": ".py",
   "mimetype": "text/x-python",
   "name": "python",
   "nbconvert_exporter": "python",
   "pygments_lexer": "ipython3",
   "version": "3.9.7"
  }
 },
 "nbformat": 4,
 "nbformat_minor": 5
}
