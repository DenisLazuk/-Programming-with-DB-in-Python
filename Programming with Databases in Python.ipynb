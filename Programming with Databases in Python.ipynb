{
 "cells": [
  {
   "cell_type": "code",
   "execution_count": 94,
   "id": "0cfe251a",
   "metadata": {},
   "outputs": [],
   "source": [
    "# CASE 1\n",
    "# Write a Python program that creates a new database in a file called original.db \n",
    "# containing a single table called Pressure, with a single field called reading, \n",
    "# and inserts 100,000 random numbers between 10.0 and 25.0.\n",
    "\n",
    "# import libriaries\n",
    "import sqlite3\n",
    "import random\n",
    "import pandas as pd"
   ]
  },
  {
   "cell_type": "code",
   "execution_count": 116,
   "id": "76c3bde4",
   "metadata": {},
   "outputs": [],
   "source": [
    "# instantiate connection and cursor object\n",
    "connection = sqlite3.connect(\"original.db\")\n",
    "cursor = connection.cursor()"
   ]
  },
  {
   "cell_type": "code",
   "execution_count": 111,
   "id": "4170fc6b",
   "metadata": {},
   "outputs": [
    {
     "ename": "ProgrammingError",
     "evalue": "Cannot operate on a closed database.",
     "output_type": "error",
     "traceback": [
      "\u001b[1;31m---------------------------------------------------------------------------\u001b[0m",
      "\u001b[1;31mProgrammingError\u001b[0m                          Traceback (most recent call last)",
      "\u001b[1;32m~\\AppData\\Local\\Temp/ipykernel_6552/3168626616.py\u001b[0m in \u001b[0;36m<module>\u001b[1;34m\u001b[0m\n\u001b[0;32m      1\u001b[0m \u001b[1;31m# add and empty table\u001b[0m\u001b[1;33m\u001b[0m\u001b[1;33m\u001b[0m\u001b[0m\n\u001b[1;32m----> 2\u001b[1;33m \u001b[0mcursor\u001b[0m\u001b[1;33m.\u001b[0m\u001b[0mexecute\u001b[0m \u001b[1;33m(\u001b[0m\u001b[1;34m\"CREATE TABLE Pressure_Final (reading INTEGER)\"\u001b[0m\u001b[1;33m)\u001b[0m\u001b[1;33m\u001b[0m\u001b[1;33m\u001b[0m\u001b[0m\n\u001b[0m",
      "\u001b[1;31mProgrammingError\u001b[0m: Cannot operate on a closed database."
     ]
    }
   ],
   "source": [
    "# add and empty table\n",
    "cursor.execute (\"CREATE TABLE Pressure_Final (reading INTEGER)\")"
   ]
  },
  {
   "cell_type": "code",
   "execution_count": 102,
   "id": "a25ffce2",
   "metadata": {},
   "outputs": [
    {
     "data": {
      "text/plain": [
       "list"
      ]
     },
     "execution_count": 102,
     "metadata": {},
     "output_type": "execute_result"
    }
   ],
   "source": [
    "# create a list of 300000 random numbers from 10 to 25\n",
    "rand_list=[]\n",
    "n=100000\n",
    "for i in range(n):\n",
    "    rand_list.append(random.randint(10,25)) \n",
    "type(rand_list)\n"
   ]
  },
  {
   "cell_type": "code",
   "execution_count": 106,
   "id": "6e2f2212",
   "metadata": {},
   "outputs": [],
   "source": [
    "# create a query\n",
    "query = \"INSERT INTO Pressure_Final (reading) VALUES (?);\"\n",
    "\n",
    "# iterate over random list to add every integer into a DB\n",
    "for number in rand_list:\n",
    "    cursor.execute(query, [number])\n",
    "connection.commit()"
   ]
  },
  {
   "cell_type": "code",
   "execution_count": 108,
   "id": "0bb3aca1",
   "metadata": {},
   "outputs": [
    {
     "name": "stdout",
     "output_type": "stream",
     "text": [
      "       reading\n",
      "0           24\n",
      "1           25\n",
      "2           25\n",
      "3           17\n",
      "4           12\n",
      "...        ...\n",
      "99995       19\n",
      "99996       14\n",
      "99997       21\n",
      "99998       19\n",
      "99999       25\n",
      "\n",
      "[100000 rows x 1 columns]\n"
     ]
    }
   ],
   "source": [
    "# check yourself by creating and printing out the database from our Table\n",
    "df = pd.read_sql_query(\"SELECT * FROM Pressure_Final;\",connection)\n",
    "print (df)"
   ]
  },
  {
   "cell_type": "code",
   "execution_count": 110,
   "id": "8519ccb2",
   "metadata": {},
   "outputs": [],
   "source": [
    "# close connection\n",
    "connection.close()"
   ]
  },
  {
   "cell_type": "code",
   "execution_count": 139,
   "id": "fb791d48",
   "metadata": {},
   "outputs": [],
   "source": [
    "# CASE 2.\n",
    "# Write a Python program that creates a new database called backup.db with the same structure as original.db \n",
    "# and copies all the values greater than 20.0 from original.db to backup.db.\n",
    "\n",
    "# import libriaries\n",
    "import sqlite3\n",
    "import random\n",
    "import pandas as pd"
   ]
  },
  {
   "cell_type": "code",
   "execution_count": 140,
   "id": "41a80101",
   "metadata": {},
   "outputs": [],
   "source": [
    "# instantiate original connection and cursor object\n",
    "connection_original = sqlite3.connect(\"original.db\")\n",
    "cursor_original = connection_original.cursor()"
   ]
  },
  {
   "cell_type": "code",
   "execution_count": 141,
   "id": "1f1848fb",
   "metadata": {},
   "outputs": [],
   "source": [
    "# make query to select the values greater than 20\n",
    "cursor_original.execute(\"SELECT * FROM Pressure WHERE reading > 20;\")\n",
    "# fetch the values to a list\n",
    "results = cursor_original.fetchall()"
   ]
  },
  {
   "cell_type": "code",
   "execution_count": 142,
   "id": "8f35ffad",
   "metadata": {},
   "outputs": [],
   "source": [
    "# close cursor and connection\n",
    "cursor_original.close()\n",
    "connection_original.close()"
   ]
  },
  {
   "cell_type": "code",
   "execution_count": 143,
   "id": "a2045994",
   "metadata": {},
   "outputs": [],
   "source": [
    "#create backup connection and cursor\n",
    "connection_backup = sqlite3.connect(\"backup.db\")\n",
    "cursor_backup = connection_new.cursor()"
   ]
  },
  {
   "cell_type": "code",
   "execution_count": 144,
   "id": "1b6702eb",
   "metadata": {},
   "outputs": [
    {
     "ename": "OperationalError",
     "evalue": "table Pressure_backup already exists",
     "output_type": "error",
     "traceback": [
      "\u001b[1;31m---------------------------------------------------------------------------\u001b[0m",
      "\u001b[1;31mOperationalError\u001b[0m                          Traceback (most recent call last)",
      "\u001b[1;32m~\\AppData\\Local\\Temp/ipykernel_6552/3710735156.py\u001b[0m in \u001b[0;36m<module>\u001b[1;34m\u001b[0m\n\u001b[0;32m      1\u001b[0m \u001b[1;31m# add and empty table\u001b[0m\u001b[1;33m\u001b[0m\u001b[1;33m\u001b[0m\u001b[0m\n\u001b[1;32m----> 2\u001b[1;33m \u001b[0mcursor_backup\u001b[0m\u001b[1;33m.\u001b[0m\u001b[0mexecute\u001b[0m \u001b[1;33m(\u001b[0m\u001b[1;34m\"CREATE TABLE Pressure_backup (reading INTEGER)\"\u001b[0m\u001b[1;33m)\u001b[0m\u001b[1;33m\u001b[0m\u001b[1;33m\u001b[0m\u001b[0m\n\u001b[0m\u001b[0;32m      3\u001b[0m \u001b[1;33m\u001b[0m\u001b[0m\n\u001b[0;32m      4\u001b[0m \u001b[1;31m# and query\u001b[0m\u001b[1;33m\u001b[0m\u001b[1;33m\u001b[0m\u001b[0m\n\u001b[0;32m      5\u001b[0m \u001b[0mquery\u001b[0m \u001b[1;33m=\u001b[0m \u001b[1;34m\"INSERT INTO Pressure_backup (reading) VALUES (?);\"\u001b[0m\u001b[1;33m\u001b[0m\u001b[1;33m\u001b[0m\u001b[0m\n",
      "\u001b[1;31mOperationalError\u001b[0m: table Pressure_backup already exists"
     ]
    }
   ],
   "source": [
    "# create an empty table\n",
    "cursor_backup.execute (\"CREATE TABLE Pressure_backup (reading INTEGER)\")\n",
    "\n",
    "# and a query\n",
    "query = \"INSERT INTO Pressure_backup (reading) VALUES (?);\""
   ]
  },
  {
   "cell_type": "code",
   "execution_count": 145,
   "id": "e6f2c2c0",
   "metadata": {},
   "outputs": [],
   "source": [
    "# iterate through list 'results' to add values to backup DB\n",
    "for i in results:\n",
    "    cursor_backup.execute(query, i)"
   ]
  },
  {
   "cell_type": "code",
   "execution_count": 138,
   "id": "0ba84cff",
   "metadata": {},
   "outputs": [],
   "source": [
    "# commit changes to DB and close connections\n",
    "cursor_backup.close()\n",
    "connection_backup.commit()\n",
    "connection_backup.close()"
   ]
  },
  {
   "cell_type": "code",
   "execution_count": 147,
   "id": "8b72d7b5",
   "metadata": {},
   "outputs": [
    {
     "ename": "OperationalError",
     "evalue": "table Survey already exists",
     "output_type": "error",
     "traceback": [
      "\u001b[1;31m---------------------------------------------------------------------------\u001b[0m",
      "\u001b[1;31mOperationalError\u001b[0m                          Traceback (most recent call last)",
      "\u001b[1;32m~\\AppData\\Local\\Temp/ipykernel_6552/3011960023.py\u001b[0m in \u001b[0;36m<module>\u001b[1;34m\u001b[0m\n\u001b[0;32m      6\u001b[0m \u001b[0mconnection\u001b[0m \u001b[1;33m=\u001b[0m \u001b[0msqlite3\u001b[0m\u001b[1;33m.\u001b[0m\u001b[0mconnect\u001b[0m\u001b[1;33m(\u001b[0m\u001b[1;34m\"survey.db\"\u001b[0m\u001b[1;33m)\u001b[0m\u001b[1;33m\u001b[0m\u001b[1;33m\u001b[0m\u001b[0m\n\u001b[0;32m      7\u001b[0m \u001b[0mcursor\u001b[0m \u001b[1;33m=\u001b[0m \u001b[0mconnection\u001b[0m\u001b[1;33m.\u001b[0m\u001b[0mcursor\u001b[0m\u001b[1;33m(\u001b[0m\u001b[1;33m)\u001b[0m\u001b[1;33m\u001b[0m\u001b[1;33m\u001b[0m\u001b[0m\n\u001b[1;32m----> 8\u001b[1;33m \u001b[0mcursor\u001b[0m\u001b[1;33m.\u001b[0m\u001b[0mexecute\u001b[0m \u001b[1;33m(\u001b[0m\u001b[1;34m\"CREATE TABLE Survey (Taken INTEGER PRIMARY KEY, Temp FLOAT NOT NULL)\"\u001b[0m\u001b[1;33m)\u001b[0m\u001b[1;33m\u001b[0m\u001b[1;33m\u001b[0m\u001b[0m\n\u001b[0m\u001b[0;32m      9\u001b[0m \u001b[0mcursor\u001b[0m\u001b[1;33m.\u001b[0m\u001b[0mexecute\u001b[0m \u001b[1;33m(\u001b[0m\u001b[1;34m\"INSERT INTO Survey VALUES (619,-21.5)\"\u001b[0m\u001b[1;33m)\u001b[0m\u001b[1;33m\u001b[0m\u001b[1;33m\u001b[0m\u001b[0m\n\u001b[0;32m     10\u001b[0m \u001b[0mcursor\u001b[0m\u001b[1;33m.\u001b[0m\u001b[0mexecute\u001b[0m \u001b[1;33m(\u001b[0m\u001b[1;34m\"INSERT INTO Survey VALUES (622,-15.5)\"\u001b[0m\u001b[1;33m)\u001b[0m\u001b[1;33m\u001b[0m\u001b[1;33m\u001b[0m\u001b[0m\n",
      "\u001b[1;31mOperationalError\u001b[0m: table Survey already exists"
     ]
    }
   ],
   "source": [
    "# CASE 3\n",
    "# Write a small Python program that reads this file in and INSERTs these records into the survey database. \n",
    "# Note: you will need to add an entry for Olmstead to the Person table. \n",
    "\n",
    "# import libriary\n",
    "import sqlite3"
   ]
  },
  {
   "cell_type": "code",
   "execution_count": null,
   "id": "c51ddc90",
   "metadata": {},
   "outputs": [],
   "source": [
    "# create connection and cursor\n",
    "connection = sqlite3.connect(\"survey.db\")\n",
    "cursor = connection.cursor()"
   ]
  },
  {
   "cell_type": "code",
   "execution_count": null,
   "id": "df25ff80",
   "metadata": {},
   "outputs": [],
   "source": [
    "# create an empty table\n",
    "cursor.execute (\"CREATE TABLE Survey (Taken INTEGER PRIMARY KEY, Temp FLOAT NOT NULL)\")"
   ]
  },
  {
   "cell_type": "code",
   "execution_count": 148,
   "id": "dec3a910",
   "metadata": {},
   "outputs": [],
   "source": [
    "# insert two readings into DB\n",
    "cursor.execute (\"INSERT INTO Survey VALUES (619,-21.5)\")\n",
    "cursor.execute (\"INSERT INTO Survey VALUES (622,-15.5)\")"
   ]
  },
  {
   "cell_type": "code",
   "execution_count": 149,
   "id": "c3f892b4",
   "metadata": {},
   "outputs": [],
   "source": [
    "# commit changes to DB and close connections\n",
    "cursor.close()\n",
    "connection.commit()\n",
    "connection.close()"
   ]
  }
 ],
 "metadata": {
  "kernelspec": {
   "display_name": "Python 3 (ipykernel)",
   "language": "python",
   "name": "python3"
  },
  "language_info": {
   "codemirror_mode": {
    "name": "ipython",
    "version": 3
   },
   "file_extension": ".py",
   "mimetype": "text/x-python",
   "name": "python",
   "nbconvert_exporter": "python",
   "pygments_lexer": "ipython3",
   "version": "3.9.7"
  }
 },
 "nbformat": 4,
 "nbformat_minor": 5
}
